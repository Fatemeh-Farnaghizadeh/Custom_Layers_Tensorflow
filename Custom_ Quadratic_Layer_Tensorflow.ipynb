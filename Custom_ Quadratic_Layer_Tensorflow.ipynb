{
 "cells": [
  {
   "cell_type": "markdown",
   "metadata": {},
   "source": [
    "# Description"
   ]
  },
  {
   "cell_type": "markdown",
   "metadata": {},
   "source": [
    "In this notebook, we will build a custom quadratic layer which computes y = ax^2 + bx + c."
   ]
  },
  {
   "cell_type": "markdown",
   "metadata": {},
   "source": [
    "# Imports"
   ]
  },
  {
   "cell_type": "code",
   "execution_count": 1,
   "metadata": {
    "id": "PbBdQEQ35kU6"
   },
   "outputs": [],
   "source": [
    "import numpy as np\n",
    "\n",
    "import tensorflow as tf\n",
    "import tensorflow.keras.backend as K\n",
    "\n",
    "from tensorflow.keras.layers import Layer, Input, Flatten, Dropout, Dense\n",
    "from tensorflow.keras.optimizers import Adam\n",
    "from tensorflow.keras.losses import mean_squared_error\n",
    "from tensorflow.keras.models import Model\n",
    "from tensorflow.keras.datasets import mnist"
   ]
  },
  {
   "cell_type": "markdown",
   "metadata": {},
   "source": [
    "# Cusotm Layer"
   ]
  },
  {
   "cell_type": "code",
   "execution_count": 2,
   "metadata": {
    "id": "lpvTUNx65s7N"
   },
   "outputs": [],
   "source": [
    "class CustomLayer(Layer):\n",
    "    \n",
    "    def __init__(self, units=1, activation=None):\n",
    "        super(CustomLayer, self).__init__()\n",
    "        self.units=units\n",
    "        self.activation=tf.keras.activations.get(activation)  \n",
    "        \n",
    "    def build(self, input_shape):\n",
    "        w_init=tf.random_normal_initializer()\n",
    "        self.a=tf.Variable(name='a',\n",
    "                           initial_value=w_init(shape=(input_shape[-1], self.units), dtype=\"float32\"),\n",
    "                           trainable=True\n",
    "                          )\n",
    "        self.b=tf.Variable(name='b',\n",
    "                           initial_value=w_init(shape=(input_shape[-1], self.units), dtype=\"float32\"),\n",
    "                           trainable=True\n",
    "                          )\n",
    "        c_init=tf.zeros_initializer()\n",
    "        self.c=tf.Variable(name=\"c\",\n",
    "                          initial_value=c_init(shape=(self.units,), dtype=\"float32\"),\n",
    "                          trainable=True\n",
    "                          )\n",
    "    def call(self, inputs):\n",
    "        return self.activation(tf.matmul( K.square(inputs), self.a) + tf.matmul(inputs, self.b) + self.c)\n"
   ]
  },
  {
   "cell_type": "markdown",
   "metadata": {},
   "source": [
    "# Data"
   ]
  },
  {
   "cell_type": "code",
   "execution_count": 8,
   "metadata": {
    "colab": {
     "base_uri": "https://localhost:8080/"
    },
    "id": "hXfJRXbF5vQn",
    "outputId": "87a494ac-3294-47de-fa54-24c094a5cb3f"
   },
   "outputs": [],
   "source": [
    "(x_train, y_train), (x_test, y_test)=mnist.load_data()\n",
    "x_train= x_train / 255.0\n",
    "x_test=x_test / 255.0"
   ]
  },
  {
   "cell_type": "markdown",
   "metadata": {},
   "source": [
    "# Model"
   ]
  },
  {
   "cell_type": "code",
   "execution_count": 4,
   "metadata": {
    "id": "S3-jgQbp5yff"
   },
   "outputs": [],
   "source": [
    "input_layer=Input(shape=(28,28))\n",
    "x=Flatten()(input_layer)\n",
    "x=CustomLayer(units=128, activation='relu')(x)\n",
    "x=Dropout(0.2)(x)\n",
    "x=Dense(10, activation='softmax')(x)\n",
    "model=Model(inputs=input_layer, outputs=x)\n",
    "model.compile(optimizer='adam',\n",
    "              loss='sparse_categorical_crossentropy',\n",
    "              metrics=['accuracy'])"
   ]
  },
  {
   "cell_type": "code",
   "execution_count": 5,
   "metadata": {
    "colab": {
     "base_uri": "https://localhost:8080/"
    },
    "id": "6y0Djuxa516Y",
    "outputId": "9c6d1e6c-77ee-4678-9a2d-010ad34b49bf"
   },
   "outputs": [
    {
     "name": "stdout",
     "output_type": "stream",
     "text": [
      "Epoch 1/5\n",
      "1875/1875 [==============================] - 3s 1ms/step - loss: 0.2670 - accuracy: 0.9215\n",
      "Epoch 2/5\n",
      "1875/1875 [==============================] - 3s 1ms/step - loss: 0.1306 - accuracy: 0.9604\n",
      "Epoch 3/5\n",
      "1875/1875 [==============================] - 3s 1ms/step - loss: 0.0999 - accuracy: 0.9690\n",
      "Epoch 4/5\n",
      "1875/1875 [==============================] - 3s 1ms/step - loss: 0.0824 - accuracy: 0.9743\n",
      "Epoch 5/5\n",
      "1875/1875 [==============================] - 3s 1ms/step - loss: 0.0728 - accuracy: 0.9770\n"
     ]
    }
   ],
   "source": [
    "history=model.fit(x_train, y_train, epochs=5)"
   ]
  },
  {
   "cell_type": "code",
   "execution_count": 9,
   "metadata": {},
   "outputs": [
    {
     "name": "stdout",
     "output_type": "stream",
     "text": [
      "313/313 [==============================] - 1s 1ms/step - loss: 0.0859 - accuracy: 0.9755\n"
     ]
    },
    {
     "data": {
      "text/plain": [
       "[0.0858626589179039, 0.9754999876022339]"
      ]
     },
     "execution_count": 9,
     "metadata": {},
     "output_type": "execute_result"
    }
   ],
   "source": [
    "model.evaluate(x_test, y_test)"
   ]
  }
 ],
 "metadata": {
  "colab": {
   "provenance": []
  },
  "kernelspec": {
   "display_name": "Python 3 (ipykernel)",
   "language": "python",
   "name": "python3"
  },
  "language_info": {
   "codemirror_mode": {
    "name": "ipython",
    "version": 3
   },
   "file_extension": ".py",
   "mimetype": "text/x-python",
   "name": "python",
   "nbconvert_exporter": "python",
   "pygments_lexer": "ipython3",
   "version": "3.9.12"
  }
 },
 "nbformat": 4,
 "nbformat_minor": 1
}
